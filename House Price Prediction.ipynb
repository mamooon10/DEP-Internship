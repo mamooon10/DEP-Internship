{
 "cells": [
  {
   "cell_type": "code",
   "execution_count": 5,
   "id": "9a38d47c-2c89-4f70-9a8d-b40036d60d9a",
   "metadata": {},
   "outputs": [
    {
     "name": "stdout",
     "output_type": "stream",
     "text": [
      "      price  area  bedrooms  bathrooms  stories mainroad guestroom basement  \\\n",
      "0  13300000  7420         4          2        3      yes        no       no   \n",
      "1  12250000  8960         4          4        4      yes        no       no   \n",
      "2  12250000  9960         3          2        2      yes        no      yes   \n",
      "3  12215000  7500         4          2        2      yes        no      yes   \n",
      "4  11410000  7420         4          1        2      yes       yes      yes   \n",
      "\n",
      "  hotwaterheating airconditioning  parking prefarea furnishingstatus  \n",
      "0              no             yes        2      yes        furnished  \n",
      "1              no             yes        3       no        furnished  \n",
      "2              no              no        2      yes   semi-furnished  \n",
      "3              no             yes        3      yes        furnished  \n",
      "4              no             yes        2       no        furnished  \n"
     ]
    },
    {
     "data": {
      "text/html": [
       "<div>\n",
       "<style scoped>\n",
       "    .dataframe tbody tr th:only-of-type {\n",
       "        vertical-align: middle;\n",
       "    }\n",
       "\n",
       "    .dataframe tbody tr th {\n",
       "        vertical-align: top;\n",
       "    }\n",
       "\n",
       "    .dataframe thead th {\n",
       "        text-align: right;\n",
       "    }\n",
       "</style>\n",
       "<table border=\"1\" class=\"dataframe\">\n",
       "  <thead>\n",
       "    <tr style=\"text-align: right;\">\n",
       "      <th></th>\n",
       "      <th>price</th>\n",
       "      <th>area</th>\n",
       "      <th>bedrooms</th>\n",
       "      <th>bathrooms</th>\n",
       "      <th>stories</th>\n",
       "      <th>parking</th>\n",
       "    </tr>\n",
       "  </thead>\n",
       "  <tbody>\n",
       "    <tr>\n",
       "      <th>count</th>\n",
       "      <td>5.450000e+02</td>\n",
       "      <td>545.000000</td>\n",
       "      <td>545.000000</td>\n",
       "      <td>545.000000</td>\n",
       "      <td>545.000000</td>\n",
       "      <td>545.000000</td>\n",
       "    </tr>\n",
       "    <tr>\n",
       "      <th>mean</th>\n",
       "      <td>4.766729e+06</td>\n",
       "      <td>5150.541284</td>\n",
       "      <td>2.965138</td>\n",
       "      <td>1.286239</td>\n",
       "      <td>1.805505</td>\n",
       "      <td>0.693578</td>\n",
       "    </tr>\n",
       "    <tr>\n",
       "      <th>std</th>\n",
       "      <td>1.870440e+06</td>\n",
       "      <td>2170.141023</td>\n",
       "      <td>0.738064</td>\n",
       "      <td>0.502470</td>\n",
       "      <td>0.867492</td>\n",
       "      <td>0.861586</td>\n",
       "    </tr>\n",
       "    <tr>\n",
       "      <th>min</th>\n",
       "      <td>1.750000e+06</td>\n",
       "      <td>1650.000000</td>\n",
       "      <td>1.000000</td>\n",
       "      <td>1.000000</td>\n",
       "      <td>1.000000</td>\n",
       "      <td>0.000000</td>\n",
       "    </tr>\n",
       "    <tr>\n",
       "      <th>25%</th>\n",
       "      <td>3.430000e+06</td>\n",
       "      <td>3600.000000</td>\n",
       "      <td>2.000000</td>\n",
       "      <td>1.000000</td>\n",
       "      <td>1.000000</td>\n",
       "      <td>0.000000</td>\n",
       "    </tr>\n",
       "    <tr>\n",
       "      <th>50%</th>\n",
       "      <td>4.340000e+06</td>\n",
       "      <td>4600.000000</td>\n",
       "      <td>3.000000</td>\n",
       "      <td>1.000000</td>\n",
       "      <td>2.000000</td>\n",
       "      <td>0.000000</td>\n",
       "    </tr>\n",
       "    <tr>\n",
       "      <th>75%</th>\n",
       "      <td>5.740000e+06</td>\n",
       "      <td>6360.000000</td>\n",
       "      <td>3.000000</td>\n",
       "      <td>2.000000</td>\n",
       "      <td>2.000000</td>\n",
       "      <td>1.000000</td>\n",
       "    </tr>\n",
       "    <tr>\n",
       "      <th>max</th>\n",
       "      <td>1.330000e+07</td>\n",
       "      <td>16200.000000</td>\n",
       "      <td>6.000000</td>\n",
       "      <td>4.000000</td>\n",
       "      <td>4.000000</td>\n",
       "      <td>3.000000</td>\n",
       "    </tr>\n",
       "  </tbody>\n",
       "</table>\n",
       "</div>"
      ],
      "text/plain": [
       "              price          area    bedrooms   bathrooms     stories  \\\n",
       "count  5.450000e+02    545.000000  545.000000  545.000000  545.000000   \n",
       "mean   4.766729e+06   5150.541284    2.965138    1.286239    1.805505   \n",
       "std    1.870440e+06   2170.141023    0.738064    0.502470    0.867492   \n",
       "min    1.750000e+06   1650.000000    1.000000    1.000000    1.000000   \n",
       "25%    3.430000e+06   3600.000000    2.000000    1.000000    1.000000   \n",
       "50%    4.340000e+06   4600.000000    3.000000    1.000000    2.000000   \n",
       "75%    5.740000e+06   6360.000000    3.000000    2.000000    2.000000   \n",
       "max    1.330000e+07  16200.000000    6.000000    4.000000    4.000000   \n",
       "\n",
       "          parking  \n",
       "count  545.000000  \n",
       "mean     0.693578  \n",
       "std      0.861586  \n",
       "min      0.000000  \n",
       "25%      0.000000  \n",
       "50%      0.000000  \n",
       "75%      1.000000  \n",
       "max      3.000000  "
      ]
     },
     "execution_count": 5,
     "metadata": {},
     "output_type": "execute_result"
    }
   ],
   "source": [
    "import pandas as pd\n",
    "data = pd.read_csv('Housing.csv')\n",
    "\n",
    "print(data.head())\n",
    "data.describe()"
   ]
  },
  {
   "cell_type": "code",
   "execution_count": 15,
   "id": "6c26325a-3aa5-41d4-8485-8cb4373f689d",
   "metadata": {},
   "outputs": [
    {
     "name": "stdout",
     "output_type": "stream",
     "text": [
      "Data cleaning and preprocessing\n",
      "price                              0\n",
      "area                               0\n",
      "bedrooms                           0\n",
      "bathrooms                          0\n",
      "stories                            0\n",
      "parking                            0\n",
      "mainroad_yes                       0\n",
      "guestroom_yes                      0\n",
      "basement_yes                       0\n",
      "hotwaterheating_yes                0\n",
      "airconditioning_yes                0\n",
      "prefarea_yes                       0\n",
      "furnishingstatus_semi-furnished    0\n",
      "furnishingstatus_unfurnished       0\n",
      "dtype: int64\n",
      "      price  area  bedrooms  bathrooms  stories  parking  mainroad_yes  \\\n",
      "0  13300000  7420         4          2        3        2          True   \n",
      "1  12250000  8960         4          4        4        3          True   \n",
      "2  12250000  9960         3          2        2        2          True   \n",
      "3  12215000  7500         4          2        2        3          True   \n",
      "4  11410000  7420         4          1        2        2          True   \n",
      "\n",
      "   guestroom_yes  basement_yes  hotwaterheating_yes  airconditioning_yes  \\\n",
      "0          False         False                False                 True   \n",
      "1          False         False                False                 True   \n",
      "2          False          True                False                False   \n",
      "3          False          True                False                 True   \n",
      "4           True          True                False                 True   \n",
      "\n",
      "   prefarea_yes  furnishingstatus_semi-furnished  furnishingstatus_unfurnished  \n",
      "0          True                            False                         False  \n",
      "1         False                            False                         False  \n",
      "2          True                             True                         False  \n",
      "3          True                            False                         False  \n",
      "4         False                            False                         False  \n"
     ]
    }
   ],
   "source": [
    "print(\"Data cleaning and preprocessing\")\n",
    "print(data.isnull().sum())\n",
    "data = data.dropna()  \n",
    "data = pd.get_dummies(data, drop_first=True)\n",
    "print(data.head())"
   ]
  },
  {
   "cell_type": "code",
   "execution_count": 14,
   "id": "7319c2d7-fd7a-4ac6-a321-b2ca6fe62e0f",
   "metadata": {},
   "outputs": [
    {
     "name": "stdout",
     "output_type": "stream",
     "text": [
      "Feature engineering\n",
      "       area  bedrooms  bathrooms   stories   parking  mainroad_yes  \\\n",
      "0  1.046726  1.403419   1.421812  1.378217  1.517692      0.405623   \n",
      "1  1.757010  1.403419   5.405809  2.532024  2.679409      0.405623   \n",
      "2  2.218232  0.047278   1.421812  0.224410  1.517692      0.405623   \n",
      "3  1.083624  1.403419   1.421812  0.224410  2.679409      0.405623   \n",
      "4  1.046726  1.403419  -0.570187  0.224410  1.517692      0.405623   \n",
      "\n",
      "   guestroom_yes  basement_yes  hotwaterheating_yes  airconditioning_yes  \\\n",
      "0      -0.465315     -0.734539            -0.219265             1.472618   \n",
      "1      -0.465315     -0.734539            -0.219265             1.472618   \n",
      "2      -0.465315      1.361397            -0.219265            -0.679063   \n",
      "3      -0.465315      1.361397            -0.219265             1.472618   \n",
      "4       2.149083      1.361397            -0.219265             1.472618   \n",
      "\n",
      "   prefarea_yes  furnishingstatus_semi-furnished  furnishingstatus_unfurnished  \n",
      "0      1.804941                        -0.844888                     -0.696429  \n",
      "1     -0.554035                        -0.844888                     -0.696429  \n",
      "2      1.804941                         1.183588                     -0.696429  \n",
      "3      1.804941                        -0.844888                     -0.696429  \n",
      "4     -0.554035                        -0.844888                     -0.696429  \n"
     ]
    }
   ],
   "source": [
    "print(\"Feature engineering\")\n",
    "from sklearn.preprocessing import StandardScaler\n",
    "X = data.drop('price', axis=1)\n",
    "y = data['price']\n",
    "scaler = StandardScaler()\n",
    "X_scaled = scaler.fit_transform(X)\n",
    "X_scaled = pd.DataFrame(X_scaled, columns=X.columns)\n",
    "print(X_scaled.head())"
   ]
  },
  {
   "cell_type": "code",
   "execution_count": 13,
   "id": "351762bb-a92d-454a-a76c-53d982db47a2",
   "metadata": {},
   "outputs": [
    {
     "name": "stdout",
     "output_type": "stream",
     "text": [
      "Model selection and training (e.g., linear regression)\n",
      "Coefficients: [ 511615.56377666   56615.57245779  549420.50124098  353158.42985604\n",
      "  193542.78167455  128151.92129533   88590.21346152  186194.15050566\n",
      "  143233.20624958  367817.89491558  267018.66081239  -62550.29721128\n",
      " -193987.7810882 ]\n",
      "Intercept: 4737518.175380118\n"
     ]
    }
   ],
   "source": [
    "print(\"Model selection and training (e.g., linear regression)\")\n",
    "from sklearn.model_selection import train_test_split\n",
    "from sklearn.linear_model import LinearRegression\n",
    "X_train, X_test, y_train, y_test = train_test_split(X_scaled, y, test_size=0.2, random_state=42)\n",
    "model = LinearRegression()\n",
    "model.fit(X_train, y_train)\n",
    "print(\"Coefficients:\", model.coef_)\n",
    "print(\"Intercept:\", model.intercept_)"
   ]
  },
  {
   "cell_type": "code",
   "execution_count": 16,
   "id": "2ae998df-ca53-4e7e-8cf7-43ab247bfd17",
   "metadata": {},
   "outputs": [
    {
     "name": "stdout",
     "output_type": "stream",
     "text": [
      "Model evaluation and fine-tuning\n",
      "RMSE: 1324506.96009144\n",
      "MAE: 970043.4039201641\n",
      "R^2: 0.6529242642153177\n"
     ]
    }
   ],
   "source": [
    "print(\"Model evaluation and fine-tuning\")\n",
    "from sklearn.metrics import mean_squared_error, mean_absolute_error, r2_score\n",
    "y_pred = model.predict(X_test)\n",
    "rmse = mean_squared_error(y_test, y_pred, squared=False)\n",
    "mae = mean_absolute_error(y_test, y_pred)\n",
    "r2 = r2_score(y_test, y_pred)\n",
    "print(f\"RMSE: {rmse}\")\n",
    "print(f\"MAE: {mae}\")\n",
    "print(f\"R^2: {r2}\")"
   ]
  }
 ],
 "metadata": {
  "kernelspec": {
   "display_name": "Python 3 (ipykernel)",
   "language": "python",
   "name": "python3"
  },
  "language_info": {
   "codemirror_mode": {
    "name": "ipython",
    "version": 3
   },
   "file_extension": ".py",
   "mimetype": "text/x-python",
   "name": "python",
   "nbconvert_exporter": "python",
   "pygments_lexer": "ipython3",
   "version": "3.11.7"
  }
 },
 "nbformat": 4,
 "nbformat_minor": 5
}
